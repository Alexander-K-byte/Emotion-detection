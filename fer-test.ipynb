{
 "cells": [
  {
   "cell_type": "code",
   "execution_count": 1,
   "id": "6c70b504",
   "metadata": {
    "_cell_guid": "b1076dfc-b9ad-4769-8c92-a6c4dae69d19",
    "_uuid": "8f2839f25d086af736a60e9eeb907d3b93b6e0e5",
    "execution": {
     "iopub.execute_input": "2022-05-15T17:36:42.657863Z",
     "iopub.status.busy": "2022-05-15T17:36:42.657196Z",
     "iopub.status.idle": "2022-05-15T17:36:47.855103Z",
     "shell.execute_reply": "2022-05-15T17:36:47.854333Z"
    },
    "papermill": {
     "duration": 5.209405,
     "end_time": "2022-05-15T17:36:47.857571",
     "exception": false,
     "start_time": "2022-05-15T17:36:42.648166",
     "status": "completed"
    },
    "tags": []
   },
   "outputs": [],
   "source": [
    "import tensorflow as tf\n",
    "import numpy as np\n",
    "import matplotlib.pyplot as plt\n",
    "from keras.models import Sequential\n",
    "from keras.layers import Dense, Dropout, Flatten, Conv2D, MaxPooling2D\n",
    "from keras.optimizers import adam_v2\n",
    "from keras.preprocessing.image import ImageDataGenerator"
   ]
  },
  {
   "cell_type": "code",
   "execution_count": 2,
   "id": "acc5a2fe",
   "metadata": {
    "execution": {
     "iopub.execute_input": "2022-05-15T17:36:47.872214Z",
     "iopub.status.busy": "2022-05-15T17:36:47.872005Z",
     "iopub.status.idle": "2022-05-15T17:36:59.087696Z",
     "shell.execute_reply": "2022-05-15T17:36:59.085969Z"
    },
    "papermill": {
     "duration": 11.225235,
     "end_time": "2022-05-15T17:36:59.089525",
     "exception": false,
     "start_time": "2022-05-15T17:36:47.864290",
     "status": "completed"
    },
    "tags": []
   },
   "outputs": [
    {
     "name": "stdout",
     "output_type": "stream",
     "text": [
      "Found 28709 images belonging to 7 classes.\n",
      "Found 7178 images belonging to 7 classes.\n"
     ]
    }
   ],
   "source": [
    "#specify the path to the train/test folders\n",
    "train_dir = '../input/fer2013/train'\n",
    "val_dir = '../input/fer2013/test'\n",
    "#set image pixels to value of 1 or 0\n",
    "train_datagen = ImageDataGenerator(\n",
    "    rescale=1./255,\n",
    "    rotation_range = 10,\n",
    "    horizontal_flip=True,\n",
    "    width_shift_range=0.1,\n",
    "    height_shift_range=0.1,\n",
    "    fill_mode = 'nearest')\n",
    "\n",
    "val_datagen = ImageDataGenerator(rescale=1./255)\n",
    "\n",
    "#set image size/color/class for training and validation\n",
    "train_generator = train_datagen.flow_from_directory(\n",
    "        train_dir,\n",
    "        #images in FER-2013 dataset are grayscale and 48x48\n",
    "        target_size=(48,48),\n",
    "        color_mode=\"grayscale\",\n",
    "        class_mode='categorical')\n",
    "\n",
    "validation_generator = val_datagen.flow_from_directory(\n",
    "        val_dir,\n",
    "        target_size=(48,48),\n",
    "        color_mode=\"grayscale\",\n",
    "        class_mode='categorical')"
   ]
  },
  {
   "cell_type": "code",
   "execution_count": 3,
   "id": "5da2a245",
   "metadata": {
    "execution": {
     "iopub.execute_input": "2022-05-15T17:36:59.105005Z",
     "iopub.status.busy": "2022-05-15T17:36:59.104445Z",
     "iopub.status.idle": "2022-05-15T17:37:01.925707Z",
     "shell.execute_reply": "2022-05-15T17:37:01.923764Z"
    },
    "papermill": {
     "duration": 2.831291,
     "end_time": "2022-05-15T17:37:01.928023",
     "exception": false,
     "start_time": "2022-05-15T17:36:59.096732",
     "status": "completed"
    },
    "tags": []
   },
   "outputs": [
    {
     "name": "stderr",
     "output_type": "stream",
     "text": [
      "2022-05-15 17:36:59.201798: I tensorflow/stream_executor/cuda/cuda_gpu_executor.cc:937] successful NUMA node read from SysFS had negative value (-1), but there must be at least one NUMA node, so returning NUMA node zero\n",
      "2022-05-15 17:36:59.323113: I tensorflow/stream_executor/cuda/cuda_gpu_executor.cc:937] successful NUMA node read from SysFS had negative value (-1), but there must be at least one NUMA node, so returning NUMA node zero\n",
      "2022-05-15 17:36:59.323916: I tensorflow/stream_executor/cuda/cuda_gpu_executor.cc:937] successful NUMA node read from SysFS had negative value (-1), but there must be at least one NUMA node, so returning NUMA node zero\n",
      "2022-05-15 17:36:59.325665: I tensorflow/core/platform/cpu_feature_guard.cc:142] This TensorFlow binary is optimized with oneAPI Deep Neural Network Library (oneDNN) to use the following CPU instructions in performance-critical operations:  AVX2 AVX512F FMA\n",
      "To enable them in other operations, rebuild TensorFlow with the appropriate compiler flags.\n",
      "2022-05-15 17:36:59.325993: I tensorflow/stream_executor/cuda/cuda_gpu_executor.cc:937] successful NUMA node read from SysFS had negative value (-1), but there must be at least one NUMA node, so returning NUMA node zero\n",
      "2022-05-15 17:36:59.326905: I tensorflow/stream_executor/cuda/cuda_gpu_executor.cc:937] successful NUMA node read from SysFS had negative value (-1), but there must be at least one NUMA node, so returning NUMA node zero\n",
      "2022-05-15 17:36:59.327755: I tensorflow/stream_executor/cuda/cuda_gpu_executor.cc:937] successful NUMA node read from SysFS had negative value (-1), but there must be at least one NUMA node, so returning NUMA node zero\n",
      "2022-05-15 17:37:01.469481: I tensorflow/stream_executor/cuda/cuda_gpu_executor.cc:937] successful NUMA node read from SysFS had negative value (-1), but there must be at least one NUMA node, so returning NUMA node zero\n",
      "2022-05-15 17:37:01.470353: I tensorflow/stream_executor/cuda/cuda_gpu_executor.cc:937] successful NUMA node read from SysFS had negative value (-1), but there must be at least one NUMA node, so returning NUMA node zero\n",
      "2022-05-15 17:37:01.471032: I tensorflow/stream_executor/cuda/cuda_gpu_executor.cc:937] successful NUMA node read from SysFS had negative value (-1), but there must be at least one NUMA node, so returning NUMA node zero\n",
      "2022-05-15 17:37:01.472425: I tensorflow/core/common_runtime/gpu/gpu_device.cc:1510] Created device /job:localhost/replica:0/task:0/device:GPU:0 with 15403 MB memory:  -> device: 0, name: Tesla P100-PCIE-16GB, pci bus id: 0000:00:04.0, compute capability: 6.0\n"
     ]
    }
   ],
   "source": [
    "model = Sequential()\n",
    "\n",
    "model.add(Conv2D(64, kernel_size=(3, 3), padding='same', activation='relu', input_shape=(48,48,1)))\n",
    "model.add(Conv2D(64, kernel_size=(3, 3), padding='same', activation='relu'))\n",
    "model.add(Dropout(0.3))\n",
    "\n",
    "model.add(Conv2D(128, kernel_size=(3, 3), padding='same', activation='relu'))\n",
    "model.add(Conv2D(128, kernel_size=(3, 3), padding='same', activation='relu'))\n",
    "model.add(MaxPooling2D(pool_size=(2, 2)))\n",
    "model.add(Dropout(0.3))\n",
    "\n",
    "model.add(Conv2D(256, kernel_size=(3, 3), padding='same', activation='relu'))\n",
    "model.add(Conv2D(256, kernel_size=(3, 3), padding='same', activation='relu'))\n",
    "model.add(MaxPooling2D(pool_size=(2, 2)))\n",
    "model.add(Dropout(0.3))\n",
    "\n",
    "model.add(Conv2D(512, kernel_size=(3, 3), padding='same', activation='relu'))\n",
    "model.add(Conv2D(512, kernel_size=(3, 3), padding='same', activation='relu'))\n",
    "model.add(MaxPooling2D(pool_size=(2, 2)))\n",
    "model.add(Dropout(0.3))\n",
    "\n",
    "model.add(Flatten())\n",
    "model.add(Dense(1024, activation='relu'))\n",
    "model.add(Dropout(0.3))\n",
    "model.add(Dense(7, activation='softmax'))"
   ]
  },
  {
   "cell_type": "code",
   "execution_count": 4,
   "id": "7245f488",
   "metadata": {
    "execution": {
     "iopub.execute_input": "2022-05-15T17:37:01.944588Z",
     "iopub.status.busy": "2022-05-15T17:37:01.944395Z",
     "iopub.status.idle": "2022-05-15T18:34:25.432287Z",
     "shell.execute_reply": "2022-05-15T18:34:25.431553Z"
    },
    "papermill": {
     "duration": 3443.498055,
     "end_time": "2022-05-15T18:34:25.434149",
     "exception": false,
     "start_time": "2022-05-15T17:37:01.936094",
     "status": "completed"
    },
    "tags": []
   },
   "outputs": [
    {
     "name": "stderr",
     "output_type": "stream",
     "text": [
      "2022-05-15 17:37:02.194421: I tensorflow/compiler/mlir/mlir_graph_optimization_pass.cc:185] None of the MLIR Optimization Passes are enabled (registered 2)\n"
     ]
    },
    {
     "name": "stdout",
     "output_type": "stream",
     "text": [
      "Epoch 1/100\n"
     ]
    },
    {
     "name": "stderr",
     "output_type": "stream",
     "text": [
      "2022-05-15 17:37:03.844579: I tensorflow/stream_executor/cuda/cuda_dnn.cc:369] Loaded cuDNN version 8005\n"
     ]
    },
    {
     "name": "stdout",
     "output_type": "stream",
     "text": [
      "448/448 [==============================] - 70s 138ms/step - loss: 1.8203 - accuracy: 0.2532 - val_loss: 1.8082 - val_accuracy: 0.2478\n",
      "Epoch 2/100\n",
      "448/448 [==============================] - 41s 92ms/step - loss: 1.7832 - accuracy: 0.2578 - val_loss: 1.7624 - val_accuracy: 0.2698\n",
      "Epoch 3/100\n",
      "448/448 [==============================] - 33s 73ms/step - loss: 1.7254 - accuracy: 0.3012 - val_loss: 1.6620 - val_accuracy: 0.3538\n",
      "Epoch 4/100\n",
      "448/448 [==============================] - 28s 62ms/step - loss: 1.6213 - accuracy: 0.3649 - val_loss: 1.5196 - val_accuracy: 0.4104\n",
      "Epoch 5/100\n",
      "448/448 [==============================] - 25s 57ms/step - loss: 1.5313 - accuracy: 0.4081 - val_loss: 1.4295 - val_accuracy: 0.4520\n",
      "Epoch 6/100\n",
      "448/448 [==============================] - 23s 52ms/step - loss: 1.4668 - accuracy: 0.4389 - val_loss: 1.4443 - val_accuracy: 0.4548\n",
      "Epoch 7/100\n",
      "448/448 [==============================] - 24s 52ms/step - loss: 1.3992 - accuracy: 0.4574 - val_loss: 1.3261 - val_accuracy: 0.4877\n",
      "Epoch 8/100\n",
      "448/448 [==============================] - 24s 53ms/step - loss: 1.3646 - accuracy: 0.4737 - val_loss: 1.2907 - val_accuracy: 0.5100\n",
      "Epoch 9/100\n",
      "448/448 [==============================] - 24s 53ms/step - loss: 1.3210 - accuracy: 0.4888 - val_loss: 1.2374 - val_accuracy: 0.5251\n",
      "Epoch 10/100\n",
      "448/448 [==============================] - 25s 55ms/step - loss: 1.2813 - accuracy: 0.5117 - val_loss: 1.2213 - val_accuracy: 0.5340\n",
      "Epoch 11/100\n",
      "448/448 [==============================] - 27s 60ms/step - loss: 1.2519 - accuracy: 0.5204 - val_loss: 1.2304 - val_accuracy: 0.5240\n",
      "Epoch 12/100\n",
      "448/448 [==============================] - 24s 53ms/step - loss: 1.2229 - accuracy: 0.5379 - val_loss: 1.1706 - val_accuracy: 0.5578\n",
      "Epoch 13/100\n",
      "448/448 [==============================] - 24s 55ms/step - loss: 1.1904 - accuracy: 0.5528 - val_loss: 1.1299 - val_accuracy: 0.5787\n",
      "Epoch 14/100\n",
      "448/448 [==============================] - 25s 56ms/step - loss: 1.1625 - accuracy: 0.5634 - val_loss: 1.1681 - val_accuracy: 0.5678\n",
      "Epoch 15/100\n",
      "448/448 [==============================] - 25s 56ms/step - loss: 1.1483 - accuracy: 0.5680 - val_loss: 1.0999 - val_accuracy: 0.5798\n",
      "Epoch 16/100\n",
      "448/448 [==============================] - 25s 56ms/step - loss: 1.1322 - accuracy: 0.5686 - val_loss: 1.0924 - val_accuracy: 0.5739\n",
      "Epoch 17/100\n",
      "448/448 [==============================] - 25s 55ms/step - loss: 1.1107 - accuracy: 0.5776 - val_loss: 1.0803 - val_accuracy: 0.5965\n",
      "Epoch 18/100\n",
      "448/448 [==============================] - 24s 53ms/step - loss: 1.1050 - accuracy: 0.5833 - val_loss: 1.0595 - val_accuracy: 0.5974\n",
      "Epoch 19/100\n",
      "448/448 [==============================] - 23s 52ms/step - loss: 1.0793 - accuracy: 0.5941 - val_loss: 1.0537 - val_accuracy: 0.5999\n",
      "Epoch 20/100\n",
      "448/448 [==============================] - 24s 53ms/step - loss: 1.0743 - accuracy: 0.5969 - val_loss: 1.0150 - val_accuracy: 0.6183\n",
      "Epoch 21/100\n",
      "448/448 [==============================] - 24s 54ms/step - loss: 1.0589 - accuracy: 0.6035 - val_loss: 1.0336 - val_accuracy: 0.6105\n",
      "Epoch 22/100\n",
      "448/448 [==============================] - 24s 53ms/step - loss: 1.0385 - accuracy: 0.6063 - val_loss: 1.0334 - val_accuracy: 0.6074\n",
      "Epoch 23/100\n",
      "448/448 [==============================] - 24s 54ms/step - loss: 1.0391 - accuracy: 0.6042 - val_loss: 1.0165 - val_accuracy: 0.6217\n",
      "Epoch 24/100\n",
      "448/448 [==============================] - 24s 54ms/step - loss: 1.0253 - accuracy: 0.6138 - val_loss: 1.0392 - val_accuracy: 0.5991\n",
      "Epoch 25/100\n",
      "448/448 [==============================] - 25s 55ms/step - loss: 1.0013 - accuracy: 0.6227 - val_loss: 1.0187 - val_accuracy: 0.6239\n",
      "Epoch 26/100\n",
      "448/448 [==============================] - 25s 56ms/step - loss: 0.9960 - accuracy: 0.6248 - val_loss: 1.0238 - val_accuracy: 0.6336\n",
      "Epoch 27/100\n",
      "448/448 [==============================] - 24s 55ms/step - loss: 0.9943 - accuracy: 0.6252 - val_loss: 0.9868 - val_accuracy: 0.6339\n",
      "Epoch 28/100\n",
      "448/448 [==============================] - 23s 52ms/step - loss: 0.9850 - accuracy: 0.6309 - val_loss: 1.0150 - val_accuracy: 0.6233\n",
      "Epoch 29/100\n",
      "448/448 [==============================] - 25s 56ms/step - loss: 0.9805 - accuracy: 0.6307 - val_loss: 0.9998 - val_accuracy: 0.6314\n",
      "Epoch 30/100\n",
      "448/448 [==============================] - 25s 55ms/step - loss: 0.9549 - accuracy: 0.6398 - val_loss: 1.0096 - val_accuracy: 0.6283\n",
      "Epoch 31/100\n",
      "448/448 [==============================] - 24s 54ms/step - loss: 0.9568 - accuracy: 0.6467 - val_loss: 1.0095 - val_accuracy: 0.6342\n",
      "Epoch 32/100\n",
      "448/448 [==============================] - 25s 55ms/step - loss: 0.9490 - accuracy: 0.6409 - val_loss: 1.0045 - val_accuracy: 0.6314\n",
      "Epoch 33/100\n",
      "448/448 [==============================] - 25s 55ms/step - loss: 0.9261 - accuracy: 0.6526 - val_loss: 0.9669 - val_accuracy: 0.6370\n",
      "Epoch 34/100\n",
      "448/448 [==============================] - 24s 53ms/step - loss: 0.9176 - accuracy: 0.6564 - val_loss: 0.9685 - val_accuracy: 0.6401\n",
      "Epoch 35/100\n",
      "448/448 [==============================] - 24s 53ms/step - loss: 0.9171 - accuracy: 0.6569 - val_loss: 0.9680 - val_accuracy: 0.6521\n",
      "Epoch 36/100\n",
      "448/448 [==============================] - 25s 55ms/step - loss: 0.9087 - accuracy: 0.6606 - val_loss: 0.9950 - val_accuracy: 0.6378\n",
      "Epoch 37/100\n",
      "448/448 [==============================] - 25s 55ms/step - loss: 0.9028 - accuracy: 0.6619 - val_loss: 0.9607 - val_accuracy: 0.6504\n",
      "Epoch 38/100\n",
      "448/448 [==============================] - 23s 51ms/step - loss: 0.8880 - accuracy: 0.6677 - val_loss: 0.9425 - val_accuracy: 0.6562\n",
      "Epoch 39/100\n",
      "448/448 [==============================] - 25s 55ms/step - loss: 0.8805 - accuracy: 0.6701 - val_loss: 0.9588 - val_accuracy: 0.6487\n",
      "Epoch 40/100\n",
      "448/448 [==============================] - 24s 53ms/step - loss: 0.8826 - accuracy: 0.6731 - val_loss: 0.9400 - val_accuracy: 0.6487\n",
      "Epoch 41/100\n",
      "448/448 [==============================] - 25s 56ms/step - loss: 0.8725 - accuracy: 0.6735 - val_loss: 0.9578 - val_accuracy: 0.6546\n",
      "Epoch 42/100\n",
      "448/448 [==============================] - 25s 55ms/step - loss: 0.8636 - accuracy: 0.6793 - val_loss: 0.9875 - val_accuracy: 0.6387\n",
      "Epoch 43/100\n",
      "448/448 [==============================] - 24s 53ms/step - loss: 0.8519 - accuracy: 0.6819 - val_loss: 0.9546 - val_accuracy: 0.6546\n",
      "Epoch 44/100\n",
      "448/448 [==============================] - 25s 57ms/step - loss: 0.8482 - accuracy: 0.6842 - val_loss: 0.9633 - val_accuracy: 0.6526\n",
      "Epoch 45/100\n",
      "448/448 [==============================] - 23s 52ms/step - loss: 0.8477 - accuracy: 0.6829 - val_loss: 0.9658 - val_accuracy: 0.6571\n",
      "Epoch 46/100\n",
      "448/448 [==============================] - 25s 55ms/step - loss: 0.8365 - accuracy: 0.6867 - val_loss: 0.9650 - val_accuracy: 0.6487\n",
      "Epoch 47/100\n",
      "448/448 [==============================] - 24s 53ms/step - loss: 0.8235 - accuracy: 0.6929 - val_loss: 0.9754 - val_accuracy: 0.6635\n",
      "Epoch 48/100\n",
      "448/448 [==============================] - 26s 57ms/step - loss: 0.8124 - accuracy: 0.6998 - val_loss: 0.9670 - val_accuracy: 0.6663\n",
      "Epoch 49/100\n",
      "448/448 [==============================] - 23s 52ms/step - loss: 0.8186 - accuracy: 0.6945 - val_loss: 0.9282 - val_accuracy: 0.6652\n",
      "Epoch 50/100\n",
      "448/448 [==============================] - 26s 59ms/step - loss: 0.7994 - accuracy: 0.6988 - val_loss: 0.9133 - val_accuracy: 0.6682\n",
      "Epoch 51/100\n",
      "448/448 [==============================] - 23s 51ms/step - loss: 0.8026 - accuracy: 0.7008 - val_loss: 0.9697 - val_accuracy: 0.6529\n",
      "Epoch 52/100\n",
      "448/448 [==============================] - 26s 58ms/step - loss: 0.7889 - accuracy: 0.7044 - val_loss: 0.9552 - val_accuracy: 0.6551\n",
      "Epoch 53/100\n",
      "448/448 [==============================] - 23s 52ms/step - loss: 0.7825 - accuracy: 0.7076 - val_loss: 0.9441 - val_accuracy: 0.6610\n",
      "Epoch 54/100\n",
      "448/448 [==============================] - 26s 58ms/step - loss: 0.7796 - accuracy: 0.7139 - val_loss: 0.9725 - val_accuracy: 0.6744\n",
      "Epoch 55/100\n",
      "448/448 [==============================] - 24s 53ms/step - loss: 0.7793 - accuracy: 0.7095 - val_loss: 0.9088 - val_accuracy: 0.6814\n",
      "Epoch 56/100\n",
      "448/448 [==============================] - 26s 58ms/step - loss: 0.7640 - accuracy: 0.7147 - val_loss: 0.9857 - val_accuracy: 0.6621\n",
      "Epoch 57/100\n",
      "448/448 [==============================] - 23s 51ms/step - loss: 0.7469 - accuracy: 0.7254 - val_loss: 0.9789 - val_accuracy: 0.6691\n",
      "Epoch 58/100\n",
      "448/448 [==============================] - 24s 53ms/step - loss: 0.7539 - accuracy: 0.7197 - val_loss: 0.9305 - val_accuracy: 0.6733\n",
      "Epoch 59/100\n",
      "448/448 [==============================] - 27s 59ms/step - loss: 0.7399 - accuracy: 0.7265 - val_loss: 0.9480 - val_accuracy: 0.6663\n",
      "Epoch 60/100\n",
      "448/448 [==============================] - 24s 53ms/step - loss: 0.7303 - accuracy: 0.7270 - val_loss: 0.9627 - val_accuracy: 0.6741\n",
      "Epoch 61/100\n",
      "448/448 [==============================] - 28s 63ms/step - loss: 0.7461 - accuracy: 0.7228 - val_loss: 0.9493 - val_accuracy: 0.6747\n",
      "Epoch 62/100\n",
      "448/448 [==============================] - 23s 52ms/step - loss: 0.7206 - accuracy: 0.7354 - val_loss: 0.9819 - val_accuracy: 0.6719\n",
      "Epoch 63/100\n",
      "448/448 [==============================] - 27s 60ms/step - loss: 0.7060 - accuracy: 0.7386 - val_loss: 0.9865 - val_accuracy: 0.6669\n",
      "Epoch 64/100\n",
      "448/448 [==============================] - 22s 50ms/step - loss: 0.7140 - accuracy: 0.7316 - val_loss: 0.9870 - val_accuracy: 0.6758\n",
      "Epoch 65/100\n",
      "448/448 [==============================] - 27s 60ms/step - loss: 0.6920 - accuracy: 0.7421 - val_loss: 0.9621 - val_accuracy: 0.6783\n",
      "Epoch 66/100\n",
      "448/448 [==============================] - 23s 51ms/step - loss: 0.6907 - accuracy: 0.7474 - val_loss: 0.9405 - val_accuracy: 0.6791\n",
      "Epoch 67/100\n",
      "448/448 [==============================] - 25s 57ms/step - loss: 0.6976 - accuracy: 0.7448 - val_loss: 0.9209 - val_accuracy: 0.6900\n",
      "Epoch 68/100\n",
      "448/448 [==============================] - 24s 53ms/step - loss: 0.6840 - accuracy: 0.7491 - val_loss: 0.9444 - val_accuracy: 0.6766\n",
      "Epoch 69/100\n",
      "448/448 [==============================] - 26s 59ms/step - loss: 0.6823 - accuracy: 0.7490 - val_loss: 1.0182 - val_accuracy: 0.6627\n",
      "Epoch 70/100\n",
      "448/448 [==============================] - 24s 52ms/step - loss: 0.6697 - accuracy: 0.7510 - val_loss: 0.9792 - val_accuracy: 0.6669\n",
      "Epoch 71/100\n",
      "448/448 [==============================] - 23s 51ms/step - loss: 0.6610 - accuracy: 0.7556 - val_loss: 0.9874 - val_accuracy: 0.6749\n",
      "Epoch 72/100\n",
      "448/448 [==============================] - 26s 59ms/step - loss: 0.6681 - accuracy: 0.7531 - val_loss: 0.9998 - val_accuracy: 0.6722\n",
      "Epoch 73/100\n",
      "448/448 [==============================] - 23s 51ms/step - loss: 0.6541 - accuracy: 0.7621 - val_loss: 0.9673 - val_accuracy: 0.6875\n",
      "Epoch 74/100\n",
      "448/448 [==============================] - 24s 55ms/step - loss: 0.6523 - accuracy: 0.7544 - val_loss: 0.9527 - val_accuracy: 0.6847\n",
      "Epoch 75/100\n",
      "448/448 [==============================] - 22s 50ms/step - loss: 0.6332 - accuracy: 0.7701 - val_loss: 0.9677 - val_accuracy: 0.6791\n",
      "Epoch 76/100\n",
      "448/448 [==============================] - 26s 59ms/step - loss: 0.6232 - accuracy: 0.7683 - val_loss: 0.9915 - val_accuracy: 0.6822\n",
      "Epoch 77/100\n",
      "448/448 [==============================] - 23s 50ms/step - loss: 0.6346 - accuracy: 0.7639 - val_loss: 1.0782 - val_accuracy: 0.6758\n",
      "Epoch 78/100\n",
      "448/448 [==============================] - 22s 50ms/step - loss: 0.6358 - accuracy: 0.7651 - val_loss: 0.9322 - val_accuracy: 0.6889\n",
      "Epoch 79/100\n",
      "448/448 [==============================] - 22s 49ms/step - loss: 0.6190 - accuracy: 0.7715 - val_loss: 0.9799 - val_accuracy: 0.6872\n",
      "Epoch 80/100\n",
      "448/448 [==============================] - 23s 50ms/step - loss: 0.6216 - accuracy: 0.7748 - val_loss: 1.0629 - val_accuracy: 0.6724\n",
      "Epoch 81/100\n",
      "448/448 [==============================] - 27s 60ms/step - loss: 0.6152 - accuracy: 0.7721 - val_loss: 1.0396 - val_accuracy: 0.6752\n",
      "Epoch 82/100\n",
      "448/448 [==============================] - 23s 51ms/step - loss: 0.5995 - accuracy: 0.7790 - val_loss: 0.9844 - val_accuracy: 0.6889\n",
      "Epoch 83/100\n",
      "448/448 [==============================] - 23s 50ms/step - loss: 0.6054 - accuracy: 0.7787 - val_loss: 0.9907 - val_accuracy: 0.6869\n",
      "Epoch 84/100\n",
      "448/448 [==============================] - 24s 53ms/step - loss: 0.5999 - accuracy: 0.7772 - val_loss: 1.0314 - val_accuracy: 0.6719\n",
      "Epoch 85/100\n",
      "448/448 [==============================] - 26s 58ms/step - loss: 0.5910 - accuracy: 0.7794 - val_loss: 0.9889 - val_accuracy: 0.6822\n",
      "Epoch 86/100\n",
      "448/448 [==============================] - 23s 51ms/step - loss: 0.5759 - accuracy: 0.7894 - val_loss: 1.0192 - val_accuracy: 0.6780\n",
      "Epoch 87/100\n",
      "448/448 [==============================] - 22s 50ms/step - loss: 0.5840 - accuracy: 0.7836 - val_loss: 0.9854 - val_accuracy: 0.6895\n",
      "Epoch 88/100\n",
      "448/448 [==============================] - 28s 63ms/step - loss: 0.5629 - accuracy: 0.7933 - val_loss: 1.0308 - val_accuracy: 0.6872\n",
      "Epoch 89/100\n",
      "448/448 [==============================] - 23s 51ms/step - loss: 0.5572 - accuracy: 0.7962 - val_loss: 1.0632 - val_accuracy: 0.6858\n",
      "Epoch 90/100\n",
      "448/448 [==============================] - 23s 51ms/step - loss: 0.5711 - accuracy: 0.7904 - val_loss: 1.0093 - val_accuracy: 0.6883\n",
      "Epoch 91/100\n",
      "448/448 [==============================] - 24s 53ms/step - loss: 0.5688 - accuracy: 0.7915 - val_loss: 1.0366 - val_accuracy: 0.6833\n",
      "Epoch 92/100\n",
      "448/448 [==============================] - 27s 60ms/step - loss: 0.5608 - accuracy: 0.7937 - val_loss: 1.0662 - val_accuracy: 0.6747\n",
      "Epoch 93/100\n",
      "448/448 [==============================] - 22s 49ms/step - loss: 0.5493 - accuracy: 0.7985 - val_loss: 1.0520 - val_accuracy: 0.6906\n",
      "Epoch 94/100\n",
      "448/448 [==============================] - 23s 51ms/step - loss: 0.5483 - accuracy: 0.7981 - val_loss: 1.0410 - val_accuracy: 0.6822\n",
      "Epoch 95/100\n",
      "448/448 [==============================] - 22s 49ms/step - loss: 0.5535 - accuracy: 0.7998 - val_loss: 1.0731 - val_accuracy: 0.6875\n",
      "Epoch 96/100\n",
      "448/448 [==============================] - 28s 62ms/step - loss: 0.5487 - accuracy: 0.7987 - val_loss: 1.0259 - val_accuracy: 0.6719\n",
      "Epoch 97/100\n",
      "448/448 [==============================] - 23s 51ms/step - loss: 0.5437 - accuracy: 0.7994 - val_loss: 1.0234 - val_accuracy: 0.6895\n",
      "Epoch 98/100\n",
      "448/448 [==============================] - 23s 51ms/step - loss: 0.5215 - accuracy: 0.8050 - val_loss: 0.9922 - val_accuracy: 0.6791\n",
      "Epoch 99/100\n",
      "448/448 [==============================] - 23s 50ms/step - loss: 0.5224 - accuracy: 0.8075 - val_loss: 1.0328 - val_accuracy: 0.6855\n",
      "Epoch 100/100\n",
      "448/448 [==============================] - 23s 50ms/step - loss: 0.5249 - accuracy: 0.8091 - val_loss: 1.0696 - val_accuracy: 0.7028\n"
     ]
    }
   ],
   "source": [
    "#train model over 50 iterations\n",
    "model.compile(loss='categorical_crossentropy', optimizer=adam_v2.Adam(learning_rate=0.0001, decay=1e-7),metrics=['accuracy'])\n",
    "model_info = model.fit(\n",
    "        train_generator,\n",
    "        steps_per_epoch=28709 // 64,\n",
    "        epochs=100,\n",
    "        validation_data=validation_generator,\n",
    "        validation_steps=7178 // 64)"
   ]
  },
  {
   "cell_type": "code",
   "execution_count": 5,
   "id": "4cfabb19",
   "metadata": {
    "execution": {
     "iopub.execute_input": "2022-05-15T18:34:44.138321Z",
     "iopub.status.busy": "2022-05-15T18:34:44.138058Z",
     "iopub.status.idle": "2022-05-15T18:34:44.718262Z",
     "shell.execute_reply": "2022-05-15T18:34:44.717416Z"
    },
    "papermill": {
     "duration": 10.222397,
     "end_time": "2022-05-15T18:34:44.720346",
     "exception": false,
     "start_time": "2022-05-15T18:34:34.497949",
     "status": "completed"
    },
    "tags": []
   },
   "outputs": [],
   "source": [
    "model.save('v6model.h5')"
   ]
  },
  {
   "cell_type": "code",
   "execution_count": 6,
   "id": "3d5b2cb8",
   "metadata": {
    "execution": {
     "iopub.execute_input": "2022-05-15T18:35:02.742590Z",
     "iopub.status.busy": "2022-05-15T18:35:02.742279Z",
     "iopub.status.idle": "2022-05-15T18:35:03.268851Z",
     "shell.execute_reply": "2022-05-15T18:35:03.268093Z"
    },
    "papermill": {
     "duration": 9.565691,
     "end_time": "2022-05-15T18:35:03.271686",
     "exception": false,
     "start_time": "2022-05-15T18:34:53.705995",
     "status": "completed"
    },
    "tags": []
   },
   "outputs": [
    {
     "data": {
      "image/png": "[encoded data removed]",
      "text/plain": [
       "<Figure size 1296x432 with 2 Axes>"
      ]
     },
     "metadata": {
      "needs_background": "light"
     },
     "output_type": "display_data"
    }
   ],
   "source": [
    "acc = model_info.history['accuracy']\n",
    "val_acc = model_info.history['val_accuracy']\n",
    "\n",
    "loss = model_info.history['loss']\n",
    "val_loss = model_info.history['val_loss']\n",
    "\n",
    "epochs_range = range(len(acc))\n",
    "\n",
    "plt.figure(figsize = (18, 6))\n",
    "plt.subplot(1, 2, 1)\n",
    "plt.plot(epochs_range, acc, label = 'Training Accuracy')\n",
    "plt.plot(epochs_range, val_acc, label = 'Validation Accuracy')\n",
    "plt.legend(loc = 'lower right')\n",
    "plt.title('Training and Validation Accuracy')\n",
    "\n",
    "plt.subplot(1, 2, 2)\n",
    "plt.plot(epochs_range, loss, label = 'Training Loss')\n",
    "plt.plot(epochs_range, val_loss, label = 'Validation Loss')\n",
    "plt.legend(loc = 'upper right')\n",
    "plt.title('Training and Validation Loss')\n",
    "plt.savefig('bestModelGraph.png')\n",
    "plt.show()\n"
   ]
  }
 ],
 "metadata": {
  "kernelspec": {
   "display_name": "Python 3",
   "language": "python",
   "name": "python3"
  },
  "language_info": {
   "codemirror_mode": {
    "name": "ipython",
    "version": 3
   },
   "file_extension": ".py",
   "mimetype": "text/x-python",
   "name": "python",
   "nbconvert_exporter": "python",
   "pygments_lexer": "ipython3",
   "version": "3.7.12"
  },
  "papermill": {
   "default_parameters": {},
   "duration": 3521.741171,
   "end_time": "2022-05-15T18:35:16.283220",
   "environment_variables": {},
   "exception": null,
   "input_path": "__notebook__.ipynb",
   "output_path": "__notebook__.ipynb",
   "parameters": {},
   "start_time": "2022-05-15T17:36:34.542049",
   "version": "2.3.4"
  }
 },
 "nbformat": 4,
 "nbformat_minor": 5
}
